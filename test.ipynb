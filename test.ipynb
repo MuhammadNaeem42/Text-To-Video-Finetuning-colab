{
 "cells": [
  {
   "cell_type": "code",
   "execution_count": null,
   "metadata": {},
   "outputs": [],
   "source": [
    "!wget https://github.com/microsoft/XPretrain/blob/main/hd-vila-100m/src/cut_videos.py\n",
    "!wget https://github.com/microsoft/XPretrain/blob/main/hd-vila-100m/src/download_videos.py"
   ]
  }
 ],
 "metadata": {
  "language_info": {
   "name": "python"
  },
  "orig_nbformat": 4
 },
 "nbformat": 4,
 "nbformat_minor": 2
}
