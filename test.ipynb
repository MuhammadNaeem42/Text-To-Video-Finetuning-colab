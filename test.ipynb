{
 "cells": [
  {
   "cell_type": "markdown",
   "metadata": {
    "id": "view-in-github"
   },
   "source": [
    "[![Open In Colab](https://colab.research.google.com/assets/colab-badge.svg)](https://colab.research.google.com/github/camenduru/XPretrain-colab/blob/main/test.ipynb)"
   ]
  },
  {
   "cell_type": "code",
   "execution_count": null,
   "metadata": {},
   "outputs": [],
   "source": [
    "# !wget https://raw.githubusercontent.com/microsoft/XPretrain/main/hd-vila-100m/src/cut_videos.py -O /content/cut_videos.py\n",
    "# !wget https://raw.githubusercontent.com/microsoft/XPretrain/main/hd-vila-100m/src/download_videos.py -O /content/download_videos.py\n",
    "\n",
    "!pip install datasets yt_dlp jsonlines\n",
    "\n",
    "import datasets, json, jsonlines, os, subprocess\n",
    "from yt_dlp import YoutubeDL\n",
    "\n",
    "!mkdir /content/videos /content/out\n",
    "\n",
    "def download_video(id):\n",
    "  ydl_opts = {'overwrites':True, 'format':'bestvideo[ext=mp4]+bestaudio[ext=m4a]/mp4', 'outtmpl':f'/content/videos/{id}.mp4'}\n",
    "  with YoutubeDL(ydl_opts) as ydl:\n",
    "    ydl.download(id)\n",
    "    return f\"/content/videos/{id}.mp4\"\n",
    "\n",
    "def hhmmss(timestamp1, timestamp2):\n",
    "    hh,mm,s = timestamp1.split(':')\n",
    "    ss,ms = s.split('.')\n",
    "    timems1 = 3600*1000*int((hh)) +  60*1000*int(mm) + 1000*int(ss) + int(ms)\n",
    "    hh,mm,s = timestamp2.split(':')\n",
    "    ss,ms = s.split('.')\n",
    "    timems2 = 3600*1000*int((hh)) +  60*1000*int(mm) + 1000*int(ss) + int(ms)\n",
    "    dur = (timems2 - timems1)/1000\n",
    "    return str(dur)\n",
    "\n",
    "def run(cmd):\n",
    "    proc = subprocess.Popen(cmd, stdout=subprocess.PIPE, stderr=subprocess.STDOUT)\n",
    "    out, _ = proc.communicate()\n",
    "    return out.decode('utf-8')\n",
    "\n",
    "def extract_single_clip(sb, in_filepath, out_filepath):\n",
    "    cmd = ['ffmpeg', '-ss', sb[0], '-t', hhmmss(sb[0], sb[1]),'-accurate_seek', '-i', in_filepath, '-c', 'copy',\n",
    "        '-avoid_negative_ts', '1', '-reset_timestamps', '1',\n",
    "        '-y', '-hide_banner', '-loglevel', 'panic', '-map', '0',out_filepath]\n",
    "    run(cmd)\n",
    "    if not os.path.isfile(out_filepath):\n",
    "        raise Exception(f\"{out_filepath}: ffmpeg clip extraction failed\")\n",
    "\n",
    "dataset = datasets.load_dataset(\"camenduru/microsoft-XPretrain\", split='train[:1%]')\n",
    "first_2_data = list(dataset)[:2]\n",
    "# print(first_2_data[0])\n",
    "\n",
    "for dump in first_2_data:\n",
    "  # print(dump)\n",
    "  json_string = json.dumps(dump)\n",
    "  row = json.loads(json_string)\n",
    "  video_id = row['video_id']\n",
    "  print(video_id)\n",
    "  try:\n",
    "    download_video(video_id)\n",
    "    clips = row[\"clip\"]\n",
    "    for clip in clips:\n",
    "      # print(clip)\n",
    "      # print(clip[\"clip_id\"], clip[\"span\"][0], clip[\"span\"][1])\n",
    "      # print(video_id, hhmmss(clip[\"span\"][0], clip[\"span\"][1]))\n",
    "      extract_single_clip(clip['span'], f\"/content/videos/{video_id}.mp4\", os.path.join(\"/content/out\", clip['clip_id']))\n",
    "  except:\n",
    "    pass"
   ]
  },
  {
   "cell_type": "code",
   "execution_count": null,
   "metadata": {},
   "outputs": [],
   "source": [
    "for dump in first_2_data:\n",
    "  json_string = json.dumps(dump)\n",
    "  row = json.loads(json_string)\n",
    "  clips = row[\"clip\"]\n",
    "  for clip in clips:\n",
    "    name = f\"/content/videos/{clip['clip_id']}\"\n",
    "    print(name)"
   ]
  }
 ],
 "metadata": {
  "language_info": {
   "name": "python"
  },
  "orig_nbformat": 4
 },
 "nbformat": 4,
 "nbformat_minor": 2
}
