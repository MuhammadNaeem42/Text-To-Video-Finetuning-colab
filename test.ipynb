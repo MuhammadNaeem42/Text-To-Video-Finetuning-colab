{
 "cells": [
  {
   "cell_type": "markdown",
   "metadata": {
    "id": "view-in-github"
   },
   "source": [
    "[![Open In Colab](https://colab.research.google.com/assets/colab-badge.svg)](https://colab.research.google.com/github/camenduru/XPretrain-colab/blob/main/test.ipynb)"
   ]
  },
  {
   "cell_type": "code",
   "execution_count": null,
   "metadata": {},
   "outputs": [],
   "source": [
    "!wget https://raw.githubusercontent.com/microsoft/XPretrain/main/hd-vila-100m/src/cut_videos.py -O /content/cut_videos.py\n",
    "!wget https://raw.githubusercontent.com/microsoft/XPretrain/main/hd-vila-100m/src/download_videos.py -O /content/download_videos.py\n",
    "\n",
    "!pip install datasets yt_dlp jsonlines\n",
    "\n",
    "# from datasets import load_dataset\n",
    "# dataset = load_dataset(\"camenduru/microsoft-XPretrain\")\n",
    "# dataset"
   ]
  },
  {
   "cell_type": "code",
   "execution_count": null,
   "metadata": {},
   "outputs": [],
   "source": [
    "import datasets, json, jsonlines\n",
    "from yt_dlp import YoutubeDL\n",
    "\n",
    "def download_video(id):\n",
    "  ydl_opts = {'overwrites':True, 'format':'bestvideo[ext=mp4]+bestaudio[ext=m4a]/mp4', 'outtmpl':f'/content/{id}.mp4'}\n",
    "  with YoutubeDL(ydl_opts) as ydl:\n",
    "    ydl.download(id)\n",
    "    return f\"/content/video.mp4\"\n",
    "\n",
    "dataset = datasets.load_dataset(\"camenduru/microsoft-XPretrain\", split='train[:1%]')\n",
    "first_10_data = list(dataset)[:10]\n",
    "# print(first_10_data[0])\n",
    "\n",
    "for dump in first_10_data:\n",
    "  print(dump)\n",
    "  json_string = json.dumps(dump)\n",
    "  row = json.loads(json_string)\n",
    "  download_id = row['video_id']\n",
    "  print(download_id)\n",
    "  download_video(download_id)"
   ]
  },
  {
   "cell_type": "code",
   "execution_count": null,
   "metadata": {},
   "outputs": [],
   "source": [
    "!apt-get -y install -qq aria2\n",
    "\n",
    "import os\n",
    "from huggingface_hub import create_repo, upload_folder\n",
    "\n",
    "model_url = \"https://hdvila.blob.core.windows.net/dataset/hdvila100m.zip\" \n",
    "model_name = \"hdvila100m.zip\" \n",
    "!aria2c --console-log-level=error -c -x 16 -s 16 -k 1M {model_url} -d /content/models -o {model_name}\n",
    "\n",
    "%cd /content/models\n",
    "!unzip /content/models/hdvila100m.zip"
   ]
  },
  {
   "cell_type": "code",
   "execution_count": null,
   "metadata": {},
   "outputs": [],
   "source": [
    "!python /content/download_videos.py --metafile /content/models/hdvila/hdvila_part0.jsonl"
   ]
  }
 ],
 "metadata": {
  "language_info": {
   "name": "python"
  },
  "orig_nbformat": 4
 },
 "nbformat": 4,
 "nbformat_minor": 2
}
