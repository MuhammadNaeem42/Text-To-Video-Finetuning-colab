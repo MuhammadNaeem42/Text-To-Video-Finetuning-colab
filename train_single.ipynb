{
 "cells": [
  {
   "cell_type": "markdown",
   "metadata": {
    "id": "view-in-github"
   },
   "source": [
    "[![Open In Colab](https://colab.research.google.com/assets/colab-badge.svg)](https://colab.research.google.com/github/camenduru/Text-To-Video-Finetuning-colab/blob/main/train_single.ipynb)"
   ]
  },
  {
   "cell_type": "code",
   "execution_count": null,
   "metadata": {},
   "outputs": [],
   "source": [
    "%cd /content\n",
    "!apt -y install -qq aria2\n",
    "!aria2c --console-log-level=error -c -x 16 -s 16 -k 1M https://huggingface.co/damo-vilab/text-to-video-ms-1.7b/raw/main/scheduler/scheduler_config.json -d /content/models/model_scope_diffusers/scheduler -o scheduler_config.json\n",
    "!aria2c --console-log-level=error -c -x 16 -s 16 -k 1M https://huggingface.co/damo-vilab/text-to-video-ms-1.7b/raw/main/text_encoder/config.json -d /content/models/model_scope_diffusers/text_encoder -o config.json\n",
    "!aria2c --console-log-level=error -c -x 16 -s 16 -k 1M https://huggingface.co/damo-vilab/text-to-video-ms-1.7b/resolve/main/text_encoder/pytorch_model.bin -d /content/models/model_scope_diffusers/text_encoder -o pytorch_model.bin\n",
    "!aria2c --console-log-level=error -c -x 16 -s 16 -k 1M https://huggingface.co/damo-vilab/text-to-video-ms-1.7b/raw/main/tokenizer/merges.txt -d /content/models/model_scope_diffusers/tokenizer -o merges.txt\n",
    "!aria2c --console-log-level=error -c -x 16 -s 16 -k 1M https://huggingface.co/damo-vilab/text-to-video-ms-1.7b/raw/main/tokenizer/special_tokens_map.json -d /content/models/model_scope_diffusers/tokenizer -o special_tokens_map.json\n",
    "!aria2c --console-log-level=error -c -x 16 -s 16 -k 1M https://huggingface.co/damo-vilab/text-to-video-ms-1.7b/raw/main/tokenizer/tokenizer_config.json -d /content/models/model_scope_diffusers/tokenizer -o tokenizer_config.json\n",
    "!aria2c --console-log-level=error -c -x 16 -s 16 -k 1M https://huggingface.co/damo-vilab/text-to-video-ms-1.7b/raw/main/tokenizer/vocab.json -d /content/models/model_scope_diffusers/tokenizer -o vocab.json\n",
    "!aria2c --console-log-level=error -c -x 16 -s 16 -k 1M https://huggingface.co/damo-vilab/text-to-video-ms-1.7b/raw/main/unet/config.json -d /content/models/model_scope_diffusers/unet -o config.json\n",
    "!aria2c --console-log-level=error -c -x 16 -s 16 -k 1M https://huggingface.co/damo-vilab/text-to-video-ms-1.7b/resolve/main/unet/diffusion_pytorch_model.bin -d /content/models/model_scope_diffusers/unet -o diffusion_pytorch_model.bin\n",
    "!aria2c --console-log-level=error -c -x 16 -s 16 -k 1M https://huggingface.co/damo-vilab/text-to-video-ms-1.7b/raw/main/vae/config.json -d /content/models/model_scope_diffusers/vae -o config.json\n",
    "!aria2c --console-log-level=error -c -x 16 -s 16 -k 1M https://huggingface.co/damo-vilab/text-to-video-ms-1.7b/resolve/main/vae/diffusion_pytorch_model.bin -d /content/models/model_scope_diffusers/vae -o diffusion_pytorch_model.bin\n",
    "!aria2c --console-log-level=error -c -x 16 -s 16 -k 1M https://huggingface.co/damo-vilab/text-to-video-ms-1.7b/raw/main/model_index.json -d /content/models/model_scope_diffusers -o model_index.json\n",
    "\n",
    "!git clone -b dev https://github.com/camenduru/Text-To-Video-Finetuning\n",
    "%cd Text-To-Video-Finetuning\n",
    "!pip install -r requirements.txt\n",
    "!wget https://raw.githubusercontent.com/camenduru/Text-To-Video-Finetuning-colab/main/single.yaml"
   ]
  },
  {
   "cell_type": "code",
   "execution_count": null,
   "metadata": {},
   "outputs": [],
   "source": [
    "!python train.py --config /content/single.yaml"
   ]
  }
 ],
 "metadata": {
  "language_info": {
   "name": "python"
  },
  "orig_nbformat": 4
 },
 "nbformat": 4,
 "nbformat_minor": 2
}
