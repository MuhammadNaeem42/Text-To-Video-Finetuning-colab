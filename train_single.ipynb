{
 "cells": [
  {
   "cell_type": "markdown",
   "metadata": {
    "id": "view-in-github"
   },
   "source": [
    "[![Open In Colab](https://colab.research.google.com/assets/colab-badge.svg)](https://colab.research.google.com/github/camenduru/Text-To-Video-Finetuning-colab/blob/main/train_single.ipynb)"
   ]
  },
  {
   "cell_type": "code",
   "execution_count": null,
   "metadata": {},
   "outputs": [],
   "source": [
    "%cd /content\n",
    "!apt -y install -qq aria2\n",
    "!aria2c --console-log-level=error -c -x 16 -s 16 -k 1M https://huggingface.co/damo-vilab/text-to-video-ms-1.7b/raw/main/scheduler/scheduler_config.json -d /content/models/model_scope_diffusers/scheduler -o scheduler_config.json\n",
    "!aria2c --console-log-level=error -c -x 16 -s 16 -k 1M https://huggingface.co/damo-vilab/text-to-video-ms-1.7b/raw/main/text_encoder/config.json -d /content/models/model_scope_diffusers/text_encoder -o config.json\n",
    "!aria2c --console-log-level=error -c -x 16 -s 16 -k 1M https://huggingface.co/damo-vilab/text-to-video-ms-1.7b/resolve/main/text_encoder/pytorch_model.bin -d /content/models/model_scope_diffusers/text_encoder -o pytorch_model.bin\n",
    "!aria2c --console-log-level=error -c -x 16 -s 16 -k 1M https://huggingface.co/damo-vilab/text-to-video-ms-1.7b/raw/main/tokenizer/merges.txt -d /content/models/model_scope_diffusers/tokenizer -o merges.txt\n",
    "!aria2c --console-log-level=error -c -x 16 -s 16 -k 1M https://huggingface.co/damo-vilab/text-to-video-ms-1.7b/raw/main/tokenizer/special_tokens_map.json -d /content/models/model_scope_diffusers/tokenizer -o special_tokens_map.json\n",
    "!aria2c --console-log-level=error -c -x 16 -s 16 -k 1M https://huggingface.co/damo-vilab/text-to-video-ms-1.7b/raw/main/tokenizer/tokenizer_config.json -d /content/models/model_scope_diffusers/tokenizer -o tokenizer_config.json\n",
    "!aria2c --console-log-level=error -c -x 16 -s 16 -k 1M https://huggingface.co/damo-vilab/text-to-video-ms-1.7b/raw/main/tokenizer/vocab.json -d /content/models/model_scope_diffusers/tokenizer -o vocab.json\n",
    "!aria2c --console-log-level=error -c -x 16 -s 16 -k 1M https://huggingface.co/damo-vilab/text-to-video-ms-1.7b/raw/main/unet/config.json -d /content/models/model_scope_diffusers/unet -o config.json\n",
    "!aria2c --console-log-level=error -c -x 16 -s 16 -k 1M https://huggingface.co/damo-vilab/text-to-video-ms-1.7b/resolve/main/unet/diffusion_pytorch_model.bin -d /content/models/model_scope_diffusers/unet -o diffusion_pytorch_model.bin\n",
    "!aria2c --console-log-level=error -c -x 16 -s 16 -k 1M https://huggingface.co/damo-vilab/text-to-video-ms-1.7b/raw/main/vae/config.json -d /content/models/model_scope_diffusers/vae -o config.json\n",
    "!aria2c --console-log-level=error -c -x 16 -s 16 -k 1M https://huggingface.co/damo-vilab/text-to-video-ms-1.7b/resolve/main/vae/diffusion_pytorch_model.bin -d /content/models/model_scope_diffusers/vae -o diffusion_pytorch_model.bin\n",
    "!aria2c --console-log-level=error -c -x 16 -s 16 -k 1M https://huggingface.co/damo-vilab/text-to-video-ms-1.7b/raw/main/model_index.json -d /content/models/model_scope_diffusers -o model_index.json\n",
    "\n",
    "!git clone -b dev https://github.com/camenduru/Text-To-Video-Finetuning\n",
    "%cd Text-To-Video-Finetuning\n",
    "!pip install -r requirements.txt\n",
    "!wget https://raw.githubusercontent.com/camenduru/Text-To-Video-Finetuning-colab/main/single.yaml"
   ]
  },
  {
   "cell_type": "code",
   "execution_count": null,
   "metadata": {},
   "outputs": [],
   "source": [
    "!python train.py --config /content/single.yaml"
   ]
  },
  {
   "cell_type": "code",
   "execution_count": null,
   "metadata": {},
   "outputs": [],
   "source": [
    "%cd /content/Text-To-Video-Finetuning\n",
    "# while True:\n",
    "model = \"/content/outputs/train_2023-06-23T12-09-07\" #@param {type:\"string\"}\n",
    "prompt = \"waterfall\" #@param {type:\"string\"}\n",
    "negative = \"text, watermark, copyright, blurry, low resolution, blur, low quality\" #@param {type:\"string\"}\n",
    "prompt = f\"\\\"{prompt}\\\"\"\n",
    "negative = f\"\\\"{negative}\\\"\"\n",
    "num_steps = 25 #@param {type:\"raw\"}\n",
    "guidance_scale = 23 #@param {type:\"raw\"}\n",
    "fps = 24 #@param {type:\"raw\"}\n",
    "num_frames = 10 #@param {type:\"raw\"}\n",
    "!python inference.py -m {model} -p {prompt} -n {negative} -W 1024 -H 576 -o /content/video_outputs -d cuda -x -s {num_steps} -g {guidance_scale} -f {fps} -T {num_frames}"
   ]
  }
 ],
  "metadata": {
    "language_info": {
      "name": "python"
    },
    "orig_nbformat": 4,
    "colab": {
      "provenance": [],
      "gpuType": "T4"
    },
    "kernelspec": {
      "name": "python3",
      "display_name": "Python 3"
    },
    "accelerator": "GPU"
  },
  "nbformat": 4,
  "nbformat_minor": 0
}
